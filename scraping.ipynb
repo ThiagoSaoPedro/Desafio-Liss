{
 "cells": [
  {
   "cell_type": "markdown",
   "metadata": {},
   "source": [
    "Durante o desafio, optei por usar as tecnologias Python, junto com a biblioteca Selenium para extração de dados da página por meio de seleção HTML (mais especificamente através de Classes e Tags), a biblioteca undetected-chromedriver para que o site não detecte o script e o Jupyter Notebook para documentação do código.\n",
    "Abaixo, o comando para a instalação de ambas as bibliotecas:"
   ]
  },
  {
   "cell_type": "code",
   "execution_count": null,
   "metadata": {
    "vscode": {
     "languageId": "plaintext"
    }
   },
   "outputs": [],
   "source": [
    "pip install selenium \n",
    "pip install undetected-chromedriver"
   ]
  },
  {
   "cell_type": "markdown",
   "metadata": {},
   "source": [
    "Declaração das bibliotecas dentro do código:"
   ]
  },
  {
   "cell_type": "code",
   "execution_count": null,
   "metadata": {
    "vscode": {
     "languageId": "plaintext"
    }
   },
   "outputs": [],
   "source": [
    "from selenium import webdriver\n",
    "from selenium.webdriver.chrome.service import Service\n",
    "from selenium.webdriver.common.by import By\n",
    "import undetected_chromedriver as uc\n",
    "import time\n",
    "import csv"
   ]
  },
  {
   "cell_type": "markdown",
   "metadata": {},
   "source": [
    "Declarando a Função, pedindo os parametros da url, nome da empresa e o maximo de processos."
   ]
  },
  {
   "cell_type": "code",
   "execution_count": null,
   "metadata": {
    "vscode": {
     "languageId": "plaintext"
    }
   },
   "outputs": [],
   "source": [
    "def scraping(url, name, max_processos=1500):\n",
    "    service = Service()\n",
    "    options = webdriver.ChromeOptions()\n",
    "    \n",
    "    partes_env_list = []\n",
    "    n_processos_list = []\n",
    "    tribunal_list = []\n",
    "    localidade_list = []\n",
    "    uf_list = []\n",
    "    classe_list = []"
   ]
  },
  {
   "cell_type": "markdown",
   "metadata": {},
   "source": [
    "Primeiro, criamos a instância do driver do Chrome e configuramos a URL que ele vai acessar. Em seguida, começamos a rolar a tela para garantir que todos os elementos da página sejam capturados. Por fim, verificamos se a quantidade máxima de processos já foi atingida. Isso foi necessário, pois o tempo para carregar toda a página de processos da Nike era muito grande, ocasionando um TimeOut."
   ]
  },
  {
   "cell_type": "code",
   "execution_count": null,
   "metadata": {
    "vscode": {
     "languageId": "plaintext"
    }
   },
   "outputs": [],
   "source": [
    "    driver = uc.Chrome(service=service, options=options)\n",
    "\n",
    "    driver.get(url)\n",
    "\n",
    "    ultimotamanho = driver.execute_script('return document.body.scrollHeight')\n",
    "\n",
    "    for contador in range(1000): \n",
    "        driver.execute_script('window.scrollTo(0, document.body.scrollHeight);')\n",
    "        time.sleep(3)\n",
    "        # Pega o tamanho total da tela\n",
    "        novoultimotamanho = driver.execute_script('return document.body.scrollHeight')\n",
    "\n",
    "        if novoultimotamanho == ultimotamanho:\n",
    "            break\n",
    "        # Se não armazena o novo tamanho\n",
    "        ultimotamanho = novoultimotamanho\n",
    "\n",
    "        if len(n_processos_list) >= max_processos:\n",
    "            break"
   ]
  },
  {
   "cell_type": "markdown",
   "metadata": {},
   "source": [
    "Pegando as partes envolvidas: o driver pega cada parte envolvida e se o começo delas forem diferentes do nome da marca selecionada, adiciona a lista(isso porque no texto existem elementos apenas com os nomes da marca)."
   ]
  },
  {
   "cell_type": "code",
   "execution_count": null,
   "metadata": {
    "vscode": {
     "languageId": "plaintext"
    }
   },
   "outputs": [],
   "source": [
    "partes = driver.find_elements(By.TAG_NAME, 'Strong')\n",
    "for i in partes:\n",
    "        if(name.split()[0] != i.text.split()[0]):\n",
    "            partes_envolvidas = i.text\n",
    "            partes_env_list.append(partes_envolvidas)\n",
    "            if len(partes_env_list) >= max_processos:\n",
    "                break"
   ]
  },
  {
   "cell_type": "markdown",
   "metadata": {},
   "source": [
    "Pegamos todos os processos dá página, separamos o N de e deixamos só o número do processo e adicionamos na lista, caso esse valor não exista, adicionamos um vazio."
   ]
  },
  {
   "cell_type": "code",
   "execution_count": null,
   "metadata": {
    "vscode": {
     "languageId": "plaintext"
    }
   },
   "outputs": [],
   "source": [
    "    processos = driver.find_elements(By.CLASS_NAME, 'LawsuitCardPersonPage-header-processNumber')\n",
    "    for i in processos:\n",
    "        processo_text = i.text.split()\n",
    "        if len(processo_text) >= 3:\n",
    "            numero_processos = processo_text[2]\n",
    "            n_processos_list.append(numero_processos)\n",
    "        else:\n",
    "            n_processos_list.append('')\n",
    "        if len(n_processos_list) >= max_processos:\n",
    "            break\n"
   ]
  },
  {
   "cell_type": "markdown",
   "metadata": {},
   "source": [
    "Dentro da classe 'LawsuitCardPersonPage-body-row-item-text' existiam 3 elementos a ser pego, então separamos eles uns dos outros e adicionamos a respectiva lista."
   ]
  },
  {
   "cell_type": "code",
   "execution_count": null,
   "metadata": {
    "vscode": {
     "languageId": "plaintext"
    }
   },
   "outputs": [],
   "source": [
    "texto = driver.find_elements(By.CLASS_NAME, 'LawsuitCardPersonPage-body-row-item-text')\n",
    "for i in texto:\n",
    "        if (i.text[:2].isupper()):\n",
    "            tribunal_localidade_uf = i.text\n",
    "            uf = tribunal_localidade_uf[-2:]\n",
    "            uf_list.append(uf)\n",
    "            tribunal_localidade_uf = tribunal_localidade_uf[:-2]\n",
    "            tribunal = tribunal_localidade_uf.split()[0]\n",
    "            tribunal_list.append(tribunal)\n",
    "            tribunal_localidade_uf = tribunal_localidade_uf[7:]\n",
    "            localidade = tribunal_localidade_uf.strip(\", \")\n",
    "            localidade_list.append(localidade)\n",
    "        else:\n",
    "            classe = i.text\n",
    "            classe_list.append(classe)"
   ]
  },
  {
   "cell_type": "markdown",
   "metadata": {},
   "source": [
    "Primeiro calculamos o comprimento máximo entre todas as listas fornecidas e adicionamos elementos vazios ('') à lista até que ela atinja o comprimento necessaria para a formatação ficar correta dentro da planilha. Em seguida colocamos todos os dados em um dicionario e criamos o arquivo csv."
   ]
  },
  {
   "cell_type": "code",
   "execution_count": null,
   "metadata": {
    "vscode": {
     "languageId": "plaintext"
    }
   },
   "outputs": [],
   "source": [
    "max_length = max(len(partes_env_list), len(n_processos_list), len(tribunal_list), len(localidade_list), len(uf_list), len(classe_list))\n",
    "\n",
    "    partes_env_list.extend([''] * (max_length - len(partes_env_list)))\n",
    "    n_processos_list.extend([''] * (max_length - len(n_processos_list)))\n",
    "    tribunal_list.extend([''] * (max_length - len(tribunal_list)))\n",
    "    localidade_list.extend([''] * (max_length - len(localidade_list)))\n",
    "    uf_list.extend([''] * (max_length - len(uf_list)))\n",
    "    classe_list.extend([''] * (max_length - len(classe_list)))\n",
    "\n",
    "    dict_processos = {\n",
    "        \"Tribunal\" : tribunal_list,\n",
    "        \"Uf\" : uf_list,\n",
    "        \"Localidade\" : localidade_list,\n",
    "        \"Procedimento\" : classe_list,\n",
    "        \"Partes\" : partes_env_list\n",
    "    }\n",
    "    \n",
    "    with open(f'{name}', 'w', newline='') as arquivo:\n",
    "        dict_writer = csv.DictWriter(arquivo, fieldnames=dict_processos.keys())\n",
    "        dict_writer.writeheader()\n",
    "        for i in range(max_length):\n",
    "            row = {key: dict_processos[key][i] for key in dict_processos}\n",
    "            dict_writer.writerow(row)"
   ]
  },
  {
   "cell_type": "markdown",
   "metadata": {},
   "source": [
    "Por fim chamamos a função com a url e nome da empresa."
   ]
  },
  {
   "cell_type": "code",
   "execution_count": null,
   "metadata": {
    "vscode": {
     "languageId": "plaintext"
    }
   },
   "outputs": [],
   "source": [
    "scraping(\"https://www.jusbrasil.com.br/processos/nome/29201840/nike-do-brasil-comercio-e-participacoes-ltda\", \"Nike do Brasil Comércio e Participações Ltda.csv\")\n",
    "\n",
    "scraping(\"https://www.jusbrasil.com.br/processos/nome/28654972/adidas-do-brasil-ltda\", \"Adidas do Brasil Ltda.csv\")\n",
    "\n",
    "scraping(\"https://www.jusbrasil.com.br/processos/nome/65417283/puma-do-brasil-ltda\", \"Puma do Brasil Ltda.csv\")\n",
    "\n",
    "scraping(\"https://www.jusbrasil.com.br/processos/nome/28195165/reebok-produtos-esportivos-brasil-ltda\", \"Reebok Produtos Esportivos Ltda.csv\")\n",
    "\n",
    "scraping(\"https://www.jusbrasil.com.br/processos/nome/30873463/asics-brasil-distribuicao-e-comercio-de-artigos-esportivos-ltda\", \"Asics Brasil, Distribuição e Comércio de Artigos Esportivos Ltda.csv\")\n",
    "\n",
    "scraping(\"https://www.jusbrasil.com.br/processos/nome/313427154/under-armour-brasil-comercio-e-distribuicao-de-artigos-esportivos-ltda\", \"Under Armour Brasil Comércio e Distribuição de Artigos Esportivos Ltda.csv\")"
   ]
  }
 ],
 "metadata": {
  "language_info": {
   "name": "python"
  }
 },
 "nbformat": 4,
 "nbformat_minor": 2
}
